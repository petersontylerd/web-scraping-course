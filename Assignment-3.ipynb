{
 "cells": [
  {
   "cell_type": "markdown",
   "metadata": {},
   "source": [
    "### Assignment 03"
   ]
  },
  {
   "cell_type": "markdown",
   "metadata": {},
   "source": [
    "###### Note: To be done after completing Module 5\n",
    "\n",
    "In this exercise, we will work on some problems to get practical experience on the concepts learnt so far."
   ]
  },
  {
   "cell_type": "markdown",
   "metadata": {},
   "source": [
    "In this assignment, we will build on the work you have previously done. In the following cells, I have created a partial definition of the `Authentication` class. The next cell will have a function called data_entry(), which inserts some users. Execute these cells, and start your assignment."
   ]
  },
  {
   "cell_type": "code",
   "execution_count": 1,
   "metadata": {
    "ExecuteTime": {
     "end_time": "2019-06-28T22:05:30.260156Z",
     "start_time": "2019-06-28T22:05:30.249323Z"
    }
   },
   "outputs": [],
   "source": [
    "# custom class\n",
    "class Authentication:\n",
    "    def __init__(self):\n",
    "        # instantiate an instance variable\n",
    "        self.user_dict = {}\n",
    "\n",
    "    def register_user(self, uname, passwd):\n",
    "        if uname in self.user_dict:\n",
    "            print(\"Username exists! Try a new one.\")\n",
    "            return False\n",
    "        else:\n",
    "            self.user_dict[uname] = passwd\n",
    "            print(\"Registration successful\")\n",
    "            return True"
   ]
  },
  {
   "cell_type": "code",
   "execution_count": 2,
   "metadata": {
    "ExecuteTime": {
     "end_time": "2019-06-28T22:05:30.278503Z",
     "start_time": "2019-06-28T22:05:30.266994Z"
    }
   },
   "outputs": [
    {
     "name": "stdout",
     "output_type": "stream",
     "text": [
      "Registration successful\n",
      "Registration successful\n",
      "Registration successful\n",
      "Registration successful\n",
      "Registration successful\n",
      "Registration successful\n",
      "Registration successful\n"
     ]
    }
   ],
   "source": [
    "# function for creating dataset\n",
    "def data_entry(auth):\n",
    "\n",
    "    # registering 3 users\n",
    "    auth.register_user(\"jdoe\", \"$234^%$\")  # Jane Doe\n",
    "    auth.register_user(\"sburry\", \"456@#&^\")  # Sam Burry\n",
    "    auth.register_user(\"mfisc\", \"%6&#$@#\")  # Mike Fischer\n",
    "    auth.register_user(\"nhay\", \"ildfu45\")  # Nicky Hailey\n",
    "    auth.register_user(\"bobama\", \"klj43509jafd\")  # Barack Obama\n",
    "    auth.register_user(\"bgates\", \"^&%kjsfd934@#$\")  # Bill Gates\n",
    "    auth.register_user(\"mcuban\", \"9&4rl#nsf\")  # Mark Cuban\n",
    "\n",
    "\n",
    "# Main program\n",
    "auth = Authentication()\n",
    "data_entry(auth)"
   ]
  },
  {
   "cell_type": "code",
   "execution_count": 3,
   "metadata": {
    "ExecuteTime": {
     "end_time": "2019-06-28T22:05:30.302131Z",
     "start_time": "2019-06-28T22:05:30.280006Z"
    }
   },
   "outputs": [
    {
     "name": "stdout",
     "output_type": "stream",
     "text": [
      "Registration successful\n",
      "Registration successful\n",
      "Registration successful\n",
      "Registration successful\n",
      "Registration successful\n",
      "Registration successful\n",
      "Registration successful\n",
      "Write to file successful!\n"
     ]
    }
   ],
   "source": [
    "# Question 1:\n",
    "# Inherit the Authentication class to create a new child class called AuthenticationIOcsv\n",
    "# add a new method called write_info()\n",
    "# which writes all the usernames and passwords to a CSV file (never recommended in real life)\n",
    "# the filename should be \"userinfo.csv\"\n",
    "# It should have 2 columns: Username, Password\n",
    "# After writing to file successfully, print \"Write to file successful!\"\n",
    "\n",
    "import csv\n",
    "\n",
    "\n",
    "class AuthenticationIOcsv(Authentication):\n",
    "    def write_info(self):\n",
    "        fname = \"userinfo.csv\"\n",
    "        with open(fname, \"w\") as exportfile:\n",
    "            field_names = [\"Username\", \"Password\"]\n",
    "\n",
    "            exportwriter = csv.DictWriter(exportfile, fieldnames=field_names)\n",
    "            exportwriter.writeheader()\n",
    "            for k, v in self.user_dict.items():\n",
    "                row_dict = {field_names[0]: k, field_names[1]: v}\n",
    "                exportwriter.writerow(row_dict)\n",
    "        print(\"Write to file successful!\")\n",
    "\n",
    "\n",
    "# Main Program\n",
    "auth = AuthenticationIOcsv()\n",
    "data_entry(auth)\n",
    "\n",
    "# writing to file\n",
    "auth.write_info()"
   ]
  },
  {
   "cell_type": "code",
   "execution_count": 4,
   "metadata": {
    "ExecuteTime": {
     "end_time": "2019-06-28T22:05:30.323242Z",
     "start_time": "2019-06-28T22:05:30.308686Z"
    }
   },
   "outputs": [
    {
     "name": "stdout",
     "output_type": "stream",
     "text": [
      "['Username', 'Password']\n",
      "['jdoe', '$234^%$']\n",
      "['sburry', '456@#&^']\n",
      "['mfisc', '%6&#$@#']\n",
      "['nhay', 'ildfu45']\n",
      "['bobama', 'klj43509jafd']\n",
      "['bgates', '^&%kjsfd934@#$']\n",
      "['mcuban', '9&4rl#nsf']\n"
     ]
    }
   ],
   "source": [
    "# Question 2:\n",
    "# Read and print the contents of the CSV file \"userinfo.csv\"\n",
    "\n",
    "fname = \"userinfo.csv\"\n",
    "\n",
    "with open(fname) as f:\n",
    "    filereader = csv.reader(f)\n",
    "    for row in filereader:\n",
    "        print(row)"
   ]
  },
  {
   "cell_type": "code",
   "execution_count": 5,
   "metadata": {
    "ExecuteTime": {
     "end_time": "2019-06-28T22:05:30.351991Z",
     "start_time": "2019-06-28T22:05:30.329580Z"
    }
   },
   "outputs": [
    {
     "name": "stdout",
     "output_type": "stream",
     "text": [
      "Registration successful\n",
      "Registration successful\n",
      "Registration successful\n",
      "Registration successful\n",
      "Registration successful\n",
      "Registration successful\n",
      "Registration successful\n",
      "Write to file successful!\n"
     ]
    }
   ],
   "source": [
    "# Question 3:\n",
    "# Inherit the Authentication class to create a new child class called AuthenticationIOjson\n",
    "# add a new method called write_info()\n",
    "# which writes all the usernames and passwords to a json file (never recommended in real life)\n",
    "# the filename should be \"userinfo.json\"\n",
    "# It should have Username as the key, Password as the value\n",
    "# After writing to file successfully, print \"Write to file successful!\"\n",
    "\n",
    "import json\n",
    "from pprint import pprint\n",
    "\n",
    "\n",
    "class AuthenticationIOjson(Authentication):\n",
    "    def write_info(self):\n",
    "        fname = \"userinfo.json\"\n",
    "        with open(fname, \"w\") as exportfile:\n",
    "            json.dump(self.user_dict, exportfile)\n",
    "\n",
    "        print(\"Write to file successful!\")\n",
    "\n",
    "\n",
    "# main Program\n",
    "auth = AuthenticationIOjson()\n",
    "data_entry(auth)\n",
    "\n",
    "# writing to file\n",
    "auth.write_info()"
   ]
  },
  {
   "cell_type": "code",
   "execution_count": 6,
   "metadata": {
    "ExecuteTime": {
     "end_time": "2019-06-28T22:05:30.371250Z",
     "start_time": "2019-06-28T22:05:30.360945Z"
    }
   },
   "outputs": [
    {
     "name": "stdout",
     "output_type": "stream",
     "text": [
      "{'bgates': '^&%kjsfd934@#$',\n",
      " 'bobama': 'klj43509jafd',\n",
      " 'jdoe': '$234^%$',\n",
      " 'mcuban': '9&4rl#nsf',\n",
      " 'mfisc': '%6&#$@#',\n",
      " 'nhay': 'ildfu45',\n",
      " 'sburry': '456@#&^'}\n"
     ]
    }
   ],
   "source": [
    "# Question 4:\n",
    "# read and print the contents of the json file \"userinfo.json\"\n",
    "\n",
    "fname = \"userinfo.json\"\n",
    "\n",
    "with open(fname, \"r\") as f:\n",
    "    info = json.load(f)\n",
    "\n",
    "pprint(info)"
   ]
  },
  {
   "cell_type": "markdown",
   "metadata": {},
   "source": [
    "### Regular Expressions\n",
    "Now, we will work on some exercises related to *Strings and Pattern Matching*."
   ]
  },
  {
   "cell_type": "code",
   "execution_count": 7,
   "metadata": {
    "ExecuteTime": {
     "end_time": "2019-06-28T22:05:30.391434Z",
     "start_time": "2019-06-28T22:05:30.374114Z"
    }
   },
   "outputs": [
    {
     "name": "stdout",
     "output_type": "stream",
     "text": [
      "Its A Happy Day In Bloomington #happy\n"
     ]
    }
   ],
   "source": [
    "# Question 5\n",
    "# Given a string,strip all the white spaces on both sides of the string\n",
    "# Then, capitalize first letter of all words\n",
    "# if first character is not an alphabet leave it as it is\n",
    "# and lower case the rest of the characters in each word\n",
    "\n",
    "tweet = \"     Its a happy day in bloomington #happy            \"\n",
    "\n",
    "# strip all the white spaces and split the string to individual words\n",
    "words = [x.strip() for x in tweet.split()]\n",
    "\n",
    "formatted_words = []\n",
    "for w in words:\n",
    "    # check if the first character is an alphabet\n",
    "    if w[0].isalpha():\n",
    "        formatted_words.append(w.capitalize())\n",
    "    else:\n",
    "        formatted_words.append(w)\n",
    "\n",
    "# join all the words in formatter_words to create a single string\n",
    "formatted_tweet = \" \".join(formatted_words)\n",
    "print(formatted_tweet)"
   ]
  },
  {
   "cell_type": "code",
   "execution_count": 8,
   "metadata": {
    "ExecuteTime": {
     "end_time": "2019-06-28T22:05:30.413639Z",
     "start_time": "2019-06-28T22:05:30.395611Z"
    }
   },
   "outputs": [
    {
     "name": "stdout",
     "output_type": "stream",
     "text": [
      "Street Address: 2706 10th Street\n",
      "State: IN\n",
      "Zipcode: 47408\n"
     ]
    }
   ],
   "source": [
    "# Question 6\n",
    "# in the following address, find the Street address, State, Zipcode using regular expressions\n",
    "import re\n",
    "\n",
    "addr = \"2706 10th Street, Bloomington, IN - 47408\"\n",
    "\n",
    "# feel free to write your own regex strings\n",
    "# this version is for simplicity\n",
    "\n",
    "# must capture the idea the street addresses have small and capital letters, numbers and space\n",
    "# state has two letters followed by space, -, space and 5 digits\n",
    "\n",
    "street_regex = re.compile(r\"(\\d+)\\s+(\\d+\\w*)\\s+(\\w+)\")\n",
    "street = street_regex.search(addr)\n",
    "\n",
    "state_regex = re.compile(r\"\\b[A-Z]{2}\\b\")\n",
    "state = state_regex.search(addr)\n",
    "\n",
    "zipcode_regex = re.compile(r\"\\d\\d\\d\\d\\d\")\n",
    "zipcode = zipcode_regex.search(addr)\n",
    "\n",
    "\n",
    "print(\"Street Address:\", street.group())\n",
    "print(\"State:\", state.group())\n",
    "print(\"Zipcode:\", zipcode.group())"
   ]
  }
 ],
 "metadata": {
  "kernelspec": {
   "display_name": "Python 3",
   "language": "python",
   "name": "python3"
  },
  "language_info": {
   "codemirror_mode": {
    "name": "ipython",
    "version": 3
   },
   "file_extension": ".py",
   "mimetype": "text/x-python",
   "name": "python",
   "nbconvert_exporter": "python",
   "pygments_lexer": "ipython3",
   "version": "3.6.8"
  },
  "toc": {
   "base_numbering": 1,
   "nav_menu": {},
   "number_sections": true,
   "sideBar": true,
   "skip_h1_title": false,
   "title_cell": "Table of Contents",
   "title_sidebar": "Contents",
   "toc_cell": false,
   "toc_position": {},
   "toc_section_display": true,
   "toc_window_display": false
  }
 },
 "nbformat": 4,
 "nbformat_minor": 2
}
