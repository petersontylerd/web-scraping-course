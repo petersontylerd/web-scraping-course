{
 "cells": [
  {
   "cell_type": "markdown",
   "metadata": {},
   "source": [
    "### Assignment 00"
   ]
  },
  {
   "cell_type": "markdown",
   "metadata": {},
   "source": [
    "###### Note: To be done after completing Module 2\n",
    "\n",
    "In this exercise, we will work on some problems to get practical experience on the concepts learnt so far."
   ]
  },
  {
   "cell_type": "code",
   "execution_count": 1,
   "metadata": {
    "ExecuteTime": {
     "end_time": "2019-06-28T22:01:50.778686Z",
     "start_time": "2019-06-28T22:01:50.772122Z"
    }
   },
   "outputs": [
    {
     "name": "stdout",
     "output_type": "stream",
     "text": [
      "\"How's everyone?, asked Sam.\"\n"
     ]
    }
   ],
   "source": [
    "# Question 1 -\n",
    "# print the string within the (excluding) square braces with the double quotations and apostrophe\n",
    "# [\"How's everyone?\", asked Sam.]\n",
    "# Hint: Use raw strings or escape characters\n",
    "print('\"How\\'s everyone?, asked Sam.\"')"
   ]
  },
  {
   "cell_type": "code",
   "execution_count": 2,
   "metadata": {
    "ExecuteTime": {
     "end_time": "2019-06-28T22:01:50.791422Z",
     "start_time": "2019-06-28T22:01:50.787827Z"
    }
   },
   "outputs": [
    {
     "name": "stdout",
     "output_type": "stream",
     "text": [
      "39\n"
     ]
    }
   ],
   "source": [
    "# Question 2\n",
    "# print the value of the following expression in integer form\n",
    "# 3 + 32 / 6 * 9 - 12\n",
    "# Hint: use int() function\n",
    "print(int(3 + 32 / 6 * 9 - 12))"
   ]
  },
  {
   "cell_type": "code",
   "execution_count": 3,
   "metadata": {
    "ExecuteTime": {
     "end_time": "2019-06-28T22:01:50.802858Z",
     "start_time": "2019-06-28T22:01:50.797348Z"
    }
   },
   "outputs": [
    {
     "name": "stdout",
     "output_type": "stream",
     "text": [
      "[10, 9, 8, 7, 6, 5, 4, 3, 2, 1]\n"
     ]
    }
   ],
   "source": [
    "# Question 3\n",
    "# print numbers from 10 to 1 (decreasing order) using range() function\n",
    "# complete the range function\n",
    "print(list(range(10, 0, -1)))"
   ]
  },
  {
   "cell_type": "code",
   "execution_count": 4,
   "metadata": {
    "ExecuteTime": {
     "end_time": "2019-06-28T22:01:56.645302Z",
     "start_time": "2019-06-28T22:01:50.805094Z"
    }
   },
   "outputs": [
    {
     "name": "stdout",
     "output_type": "stream",
     "text": [
      "Last name: peterson\n",
      "First name: tyler\n",
      "Age: 31\n",
      "Last name has 8 characters\n",
      "First name has 5 characters\n",
      "Full name is peterson, tyler and age in 10 years is 41\n"
     ]
    }
   ],
   "source": [
    "# Question 4\n",
    "# Write a program which takes the following inputs\n",
    "# a. Last name\n",
    "# b. First name\n",
    "# c. age\n",
    "# and prints\n",
    "# Length of last name\n",
    "# length of first name\n",
    "# Last name followed by coma followed by first name and age in 10 years\n",
    "\n",
    "# Ex: For the following input,\n",
    "# a. Last name: Doe\n",
    "# b. First name: Jane\n",
    "# c. age: 23\n",
    "# the output should be:\n",
    "# Last name has 3 characters\n",
    "# First name has 4 characters\n",
    "# Full name is Doe, Jane and age in 10 years is 23\n",
    "\n",
    "# Fill in the blanks to get the program running\n",
    "\n",
    "last_name = input(\"Last name: \")\n",
    "first_name = input(\"First name: \")\n",
    "age = int(input(\"Age: \"))\n",
    "\n",
    "print(\"Last name has\", len(last_name), \"characters\")\n",
    "print(\"First name has\", len(first_name), \"characters\")\n",
    "print(\"Full name is\", last_name + \", \" + first_name, \"and age in 10 years is\", age + 10)"
   ]
  },
  {
   "cell_type": "code",
   "execution_count": 5,
   "metadata": {
    "ExecuteTime": {
     "end_time": "2019-06-28T22:02:04.605705Z",
     "start_time": "2019-06-28T22:01:56.646811Z"
    }
   },
   "outputs": [
    {
     "name": "stdout",
     "output_type": "stream",
     "text": [
      "Enter usename: petersontylerd\n",
      "Enter password: hi\n",
      "Login failed. Please retry\n"
     ]
    }
   ],
   "source": [
    "# Question 5\n",
    "# Write a program which takes username and password as input.\n",
    "# Call a login function, which returns true if the username is 'jdoe' and password is $12@jd56\n",
    "# Else, returns false\n",
    "# using the return value from the function print successful or retry message\n",
    "\n",
    "\n",
    "def login(uname, passwd):\n",
    "    if uname == \"jdoe\" and passwd == \"$12@jd56\":\n",
    "        success = True\n",
    "    else:\n",
    "        success = False\n",
    "    return success\n",
    "\n",
    "\n",
    "# read input from user\n",
    "uname = input(\"Enter usename: \")\n",
    "passwd = input(\"Enter password: \")\n",
    "\n",
    "# call the function with the inputs\n",
    "\n",
    "success = login(uname=uname, passwd=passwd)\n",
    "print(\"Login success\" if success else \"Login failed. Please retry\")"
   ]
  },
  {
   "cell_type": "code",
   "execution_count": 6,
   "metadata": {
    "ExecuteTime": {
     "end_time": "2019-06-28T22:02:14.893217Z",
     "start_time": "2019-06-28T22:02:04.611709Z"
    }
   },
   "outputs": [
    {
     "name": "stdout",
     "output_type": "stream",
     "text": [
      "Enter usename: jdoe\n",
      "Enter password: $12@jd56\n",
      "Login successful\n"
     ]
    }
   ],
   "source": [
    "# Question 6\n",
    "# Modify the previous program to give the user 3 chances to login.\n",
    "# If the credentials do not match, give the user a chance to reenter his username and password\n",
    "# If the credentials do not match after the third chance, print no more chances\n",
    "# Hint: Use if..else, for/while and break statements\n",
    "\n",
    "\n",
    "def login():\n",
    "    attempts = 1\n",
    "    while attempts <= 3:\n",
    "        uname = input(\"Enter usename: \")\n",
    "        passwd = input(\"Enter password: \")\n",
    "\n",
    "        if uname == \"jdoe\" and passwd == \"$12@jd56\":\n",
    "            success = True\n",
    "            print(\"Login successful\")\n",
    "            break\n",
    "        elif attempts < 3:\n",
    "            print(\n",
    "                \"Invalid credentials. Please try again.\\n{0} attempts remaining\".format(\n",
    "                    3 - attempts\n",
    "                )\n",
    "            )\n",
    "            attempts += 1\n",
    "        else:\n",
    "            attempts += 1\n",
    "    else:\n",
    "        success = False\n",
    "        print(\"Login failed. No more chances\")\n",
    "\n",
    "\n",
    "# read input from user\n",
    "\n",
    "# call the function with the inputs\n",
    "\n",
    "login()"
   ]
  }
 ],
 "metadata": {
  "kernelspec": {
   "display_name": "Python 3",
   "language": "python",
   "name": "python3"
  },
  "language_info": {
   "codemirror_mode": {
    "name": "ipython",
    "version": 3
   },
   "file_extension": ".py",
   "mimetype": "text/x-python",
   "name": "python",
   "nbconvert_exporter": "python",
   "pygments_lexer": "ipython3",
   "version": "3.6.8"
  },
  "toc": {
   "base_numbering": 1,
   "nav_menu": {},
   "number_sections": true,
   "sideBar": true,
   "skip_h1_title": false,
   "title_cell": "Table of Contents",
   "title_sidebar": "Contents",
   "toc_cell": false,
   "toc_position": {},
   "toc_section_display": true,
   "toc_window_display": false
  }
 },
 "nbformat": 4,
 "nbformat_minor": 2
}
