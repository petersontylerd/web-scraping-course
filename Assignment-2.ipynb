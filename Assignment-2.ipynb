{
 "cells": [
  {
   "cell_type": "markdown",
   "metadata": {},
   "source": [
    "### Assignment 02"
   ]
  },
  {
   "cell_type": "markdown",
   "metadata": {},
   "source": [
    "###### Note: To be done after completing Module 4\n",
    "\n",
    "In this exercise, we will work on some problems to get practical experience on the concepts learnt so far."
   ]
  },
  {
   "cell_type": "markdown",
   "metadata": {},
   "source": [
    "The first part of the assignment will consist of a series of questions to help us define a `Authentication` class for a website."
   ]
  },
  {
   "cell_type": "markdown",
   "metadata": {},
   "source": [
    "Let's define a class called Authentication with the following methods and use pass statement as the body\n",
    "pass statement indicates the function is syntactially correect and has no implementation.\n",
    "https://www.tutorialspoint.com/python/python_pass_statement.htm\n",
    "1. constructor\n",
    "2. register_user\n",
    "3. authorize_user\n",
    "4. remove_user (later)\n",
    "5. get_user_list (later)\n",
    "\n",
    "```python\n",
    "\n",
    "class Authentication:\n",
    "    def __init__(self):\n",
    "        pass\n",
    "    \n",
    "    def register_user(self):\n",
    "        pass\n",
    "    \n",
    "    def authorize_user(self):\n",
    "        pass\n",
    "    \n",
    "```    "
   ]
  },
  {
   "cell_type": "code",
   "execution_count": 11,
   "metadata": {
    "ExecuteTime": {
     "end_time": "2019-06-28T22:04:57.498333Z",
     "start_time": "2019-06-28T22:04:57.491807Z"
    }
   },
   "outputs": [],
   "source": [
    "# Question 1\n",
    "# In the given class definition, modify the constructor such that a new instance variable \"user_dict\" is intialized\n",
    "# with an empty dictionary\n",
    "\n",
    "# For now just fill the blanks here. Later, we shall join all the pieces together\n",
    "# do not execute this cell\n",
    "def __init__(self):\n",
    "    # instantiate an instance variable\n",
    "    self.user_dict = {}"
   ]
  },
  {
   "cell_type": "code",
   "execution_count": 12,
   "metadata": {
    "ExecuteTime": {
     "end_time": "2019-06-28T22:04:57.515870Z",
     "start_time": "2019-06-28T22:04:57.508314Z"
    }
   },
   "outputs": [],
   "source": [
    "# Question 2\n",
    "# Now, modify the register_user() method such that it takes two arguments: uname and passwd\n",
    "# The function should check if the given username exists in user_dict\n",
    "# If username exists, print \"Username exists! Try a new one.\" and return False\n",
    "# Else, add the username and password to user_dict, print \"Registration successful\" and return True\n",
    "\n",
    "# For now just fill the blanks here. Later, we shall join all the pieces together\n",
    "# do not execute this cell\n",
    "def register_user(self, uname, passwd):\n",
    "    if uname in self.user_dict:\n",
    "        print(\"Username exists! Try a new one.\")\n",
    "        return False\n",
    "    else:\n",
    "        self.user_dict[uname] = passwd\n",
    "        print(\"Registration successful\")\n",
    "        return True"
   ]
  },
  {
   "cell_type": "code",
   "execution_count": 13,
   "metadata": {
    "ExecuteTime": {
     "end_time": "2019-06-28T22:04:57.532545Z",
     "start_time": "2019-06-28T22:04:57.517719Z"
    }
   },
   "outputs": [],
   "source": [
    "# Question 3\n",
    "# Now, modify the authorize_user() method such that it takes two arguments: uname and passwd\n",
    "# The function should look to match a username (key) and its corresponding value in user_dict\n",
    "# if username and password match, print \"User authorized.\" and return True\n",
    "# else print \"Invalid credentials\" and return False\n",
    "\n",
    "# For now just fill the blanks here. Later, we shall join all the pieces together\n",
    "# do not execute this cell\n",
    "def authorize_user(self, uname, passwd):\n",
    "    if self.user_dict[uname] == passwd:\n",
    "        print(\"User authorized.\")\n",
    "        return True\n",
    "    else:\n",
    "        print(\"Invalid credentials\")\n",
    "        return False"
   ]
  },
  {
   "cell_type": "code",
   "execution_count": 14,
   "metadata": {
    "ExecuteTime": {
     "end_time": "2019-06-28T22:04:57.541899Z",
     "start_time": "2019-06-28T22:04:57.534479Z"
    }
   },
   "outputs": [],
   "source": [
    "# Question 4\n",
    "# Now, lets add a new method: remove_user()\n",
    "# the method takes one argument: uname\n",
    "# The function should find a key corresponding to uname and remove it from the dictionary\n",
    "# if uname is present in the dictionary, delete the entry from the dictionary, print \"User removed.\", and return True\n",
    "# else print \"Invalid username\" and return False\n",
    "\n",
    "# For now just fill the blanks here. Later, we shall join all the pieces together\n",
    "# do not execute this cell\n",
    "def remove_user(self, uname):\n",
    "    if uname in self.user_dict:\n",
    "        del self.user_dict[uname]\n",
    "        print(\"User removed.\")\n",
    "        return True\n",
    "    else:\n",
    "        print(\"Invalid username\")\n",
    "        return False"
   ]
  },
  {
   "cell_type": "code",
   "execution_count": 15,
   "metadata": {
    "ExecuteTime": {
     "end_time": "2019-06-28T22:04:57.554860Z",
     "start_time": "2019-06-28T22:04:57.546216Z"
    }
   },
   "outputs": [],
   "source": [
    "# Question 5\n",
    "# Now, lets add a new method: get_user_list()\n",
    "# the method takes no arguments\n",
    "# The function should return a list of all the users in the dictionary\n",
    "\n",
    "# For now just fill the blanks here. Later, we shall join all the pieces together\n",
    "# do not execute this cell\n",
    "def get_user_list(self):\n",
    "    return self.user_dict.keys()"
   ]
  },
  {
   "cell_type": "code",
   "execution_count": 16,
   "metadata": {
    "ExecuteTime": {
     "end_time": "2019-06-28T22:04:57.571244Z",
     "start_time": "2019-06-28T22:04:57.557307Z"
    }
   },
   "outputs": [],
   "source": [
    "# Question 6\n",
    "# Now, combine all the methods into the class and EXECUTE the cell with all the implementations\n",
    "\n",
    "# Instructions: Create the class definition and add all the methods you just defined.\n",
    "# Next execute the cell\n",
    "class Authentication:\n",
    "    def __init__(self):\n",
    "        # instantiate an instance variable\n",
    "        self.user_dict = {}\n",
    "\n",
    "    def register_user(self, uname, passwd):\n",
    "        if uname in self.user_dict:\n",
    "            print(\"Username exists! Try a new one.\")\n",
    "            return False\n",
    "        else:\n",
    "            self.user_dict[uname] = passwd\n",
    "            print(\"Registration successful\")\n",
    "            return True\n",
    "\n",
    "    def authorize_user(self, uname, passwd):\n",
    "        if self.user_dict[uname] == passwd:\n",
    "            print(\"User authorized.\")\n",
    "            return True\n",
    "        else:\n",
    "            print(\"Invalid credentials\")\n",
    "            return False\n",
    "\n",
    "    def remove_user(self, uname):\n",
    "        if uname in self.user_dict:\n",
    "            del self.user_dict[uname]\n",
    "            print(\"User removed.\")\n",
    "            return True\n",
    "        else:\n",
    "            print(\"Invalid username\")\n",
    "            return False\n",
    "\n",
    "    def get_user_list(self):\n",
    "        return self.user_dict.keys()"
   ]
  },
  {
   "cell_type": "code",
   "execution_count": 17,
   "metadata": {
    "ExecuteTime": {
     "end_time": "2019-06-28T22:04:57.592993Z",
     "start_time": "2019-06-28T22:04:57.576747Z"
    }
   },
   "outputs": [
    {
     "name": "stdout",
     "output_type": "stream",
     "text": [
      "Registration successful\n",
      "Registration successful\n",
      "Registration successful\n",
      "dict_keys(['jdoe', 'sburry', 'mfisc'])\n",
      "Username exists! Try a new one.\n",
      "User authorized.\n",
      "Invalid credentials\n",
      "User removed.\n",
      "Invalid username\n"
     ]
    }
   ],
   "source": [
    "# Execute the cell and compare the results with expected results\n",
    "def test(auth):\n",
    "\n",
    "    # registering 3 users\n",
    "    auth.register_user(\"jdoe\", \"$234^%$\")  # Jane Doe\n",
    "    auth.register_user(\"sburry\", \"456@#&^\")  # Sam Burry\n",
    "    auth.register_user(\"mfisc\", \"%6&#$@#\")  # Mike Fischer\n",
    "\n",
    "    # list all the users\n",
    "    print(auth.get_user_list())  # should pring jdoe, sburry, mfisc\n",
    "\n",
    "    # registering Jon Doe results in failure\n",
    "    auth.register_user(\"jdoe\", \"5sadf23@%g%&^\")  # Failed registration of Jon Doe\n",
    "\n",
    "    # Authorizing users\n",
    "    auth.authorize_user(\"mfisc\", \"%6&#$@#\")  # success message\n",
    "    auth.authorize_user(\"jdoe\", \"jlasdfjlasdf\")  # failure message\n",
    "\n",
    "    # removing users\n",
    "    auth.remove_user(\"jdoe\")  # success message\n",
    "    auth.remove_user(\"jake\")  # failure message\n",
    "\n",
    "\n",
    "# Main Program\n",
    "#\n",
    "# instantiating Authentication object\n",
    "auth_obj = Authentication()\n",
    "# calling test function\n",
    "test(auth_obj)"
   ]
  },
  {
   "cell_type": "markdown",
   "metadata": {},
   "source": [
    "Congrats! You have successfully defined a fully functional class."
   ]
  },
  {
   "cell_type": "code",
   "execution_count": 18,
   "metadata": {
    "ExecuteTime": {
     "end_time": "2019-06-28T22:04:57.608335Z",
     "start_time": "2019-06-28T22:04:57.598750Z"
    }
   },
   "outputs": [],
   "source": [
    "# Question 7\n",
    "# In the remove_user() method, we used if..else block to implement the functionality\n",
    "# lets replace if..else with try..catch block\n",
    "# try deleting the key, print \"User removed.\", and return True if successful\n",
    "# if there is a KeyError, catch the error, print \"Invalid username\" and return False\n",
    "\n",
    "# For now just fill the blanks here. Later, we shall join all the pieces together\n",
    "# do not execute this cell\n",
    "\n",
    "\n",
    "def remove_user(self, uname):\n",
    "    try:\n",
    "        del self.user_dict[uname]\n",
    "        print(\"User removed\")\n",
    "        return True\n",
    "    except KeyError:\n",
    "        print(\"Invalid username\")\n",
    "        return False"
   ]
  },
  {
   "cell_type": "code",
   "execution_count": 19,
   "metadata": {
    "ExecuteTime": {
     "end_time": "2019-06-28T22:04:57.627489Z",
     "start_time": "2019-06-28T22:04:57.615737Z"
    }
   },
   "outputs": [
    {
     "name": "stdout",
     "output_type": "stream",
     "text": [
      "Registration successful\n",
      "Registration successful\n",
      "Registration successful\n",
      "dict_keys(['jdoe', 'sburry', 'mfisc'])\n",
      "Username exists! Try a new one.\n",
      "User authorized.\n",
      "Invalid credentials\n",
      "User removed\n",
      "Invalid username (child class)\n"
     ]
    }
   ],
   "source": [
    "# Now, create a new definition of Authentication class named, 'Authentication2'\n",
    "# replace the remove_user functionality using inheritance\n",
    "# and run the test() using the new object\n",
    "\n",
    "# inherit Authentication class\n",
    "class Authentication2(Authentication):\n",
    "    # override remove_user()\n",
    "    def remove_user(self, uname):\n",
    "        try:\n",
    "            del self.user_dict[uname]\n",
    "            print(\"User removed\")\n",
    "            return True\n",
    "        except KeyError:\n",
    "            print(\"Invalid username (child class)\")\n",
    "            return False\n",
    "\n",
    "\n",
    "# main program\n",
    "auth2 = Authentication2()\n",
    "test(auth2)"
   ]
  },
  {
   "cell_type": "code",
   "execution_count": 20,
   "metadata": {
    "ExecuteTime": {
     "end_time": "2019-06-28T22:04:57.667045Z",
     "start_time": "2019-06-28T22:04:57.634725Z"
    }
   },
   "outputs": [
    {
     "name": "stdout",
     "output_type": "stream",
     "text": [
      "The current working directory is: \n",
      " /home/DataSciencePortfolio/academics/WebScraping \n",
      "\n",
      "['.ipynb_checkpoints', 'Assignment-0.ipynb', 'Assignment-1.ipynb', 'Assignment-2.ipynb', 'Assignment-3.ipynb', 'Assignment-4.ipynb', 'Assignment-5.ipynb', 'files', 'Project.ipynb', 'project.py', 'scrapyprojectQ5.py', 'scrapyprojectQ6.py', 'userinfo.csv', 'userinfo.json']\n",
      "/home/DataSciencePortfolio/academics/WebScraping/files\n",
      "Hello world!\n"
     ]
    }
   ],
   "source": [
    "# Question 8\n",
    "# This will be a small exercise to brush up your memory of the I/O commands\n",
    "\n",
    "import os\n",
    "\n",
    "# 1. Print your current directory\n",
    "cwd = os.getcwd()  # get current directory\n",
    "print(\"The current working directory is:\", \"\\n\", cwd, \"\\n\")\n",
    "\n",
    "# 2. Create a new folder called \"files\" in your current directory and list all the files in your current directory\n",
    "os.makedirs(cwd + \"/files\")  # create a new folder \"files\"\n",
    "print(os.listdir(cwd))  # print the contents of directory\n",
    "\n",
    "# 3. change your path to the new directory and print the current directory\n",
    "os.chdir(\"files\")  # change path to \"files\"\n",
    "print(os.getcwd())  # print current working directory\n",
    "\n",
    "# 4. open a file called 'sample.txt' in write ('w') mode\n",
    "f = open(\"sample.txt\", \"w\")\n",
    "\n",
    "# 5. Write \"Hello world!\" to the file\n",
    "f.write(\"Hello world!\")\n",
    "\n",
    "# 6. close the file and terminate the program\n",
    "f.close()\n",
    "\n",
    "# 7. open in read ('r') mode, print the contents of sample.txt and close the file\n",
    "f = open(\"sample.txt\", \"r\")\n",
    "print(f.read())\n",
    "f.close()"
   ]
  }
 ],
 "metadata": {
  "kernelspec": {
   "display_name": "Python 3",
   "language": "python",
   "name": "python3"
  },
  "language_info": {
   "codemirror_mode": {
    "name": "ipython",
    "version": 3
   },
   "file_extension": ".py",
   "mimetype": "text/x-python",
   "name": "python",
   "nbconvert_exporter": "python",
   "pygments_lexer": "ipython3",
   "version": "3.6.8"
  },
  "toc": {
   "base_numbering": 1,
   "nav_menu": {},
   "number_sections": true,
   "sideBar": true,
   "skip_h1_title": false,
   "title_cell": "Table of Contents",
   "title_sidebar": "Contents",
   "toc_cell": false,
   "toc_position": {},
   "toc_section_display": true,
   "toc_window_display": false
  }
 },
 "nbformat": 4,
 "nbformat_minor": 2
}
