{
 "cells": [
  {
   "cell_type": "markdown",
   "metadata": {},
   "source": [
    "### Assignment 01"
   ]
  },
  {
   "cell_type": "markdown",
   "metadata": {},
   "source": [
    "###### Note: To be done after completing Module 3\n",
    "\n",
    "In this exercise, we will work on some problems to get practical experience on the concepts learnt so far."
   ]
  },
  {
   "cell_type": "code",
   "execution_count": 1,
   "metadata": {
    "ExecuteTime": {
     "end_time": "2019-06-28T22:02:38.646073Z",
     "start_time": "2019-06-28T22:02:38.617694Z"
    }
   },
   "outputs": [
    {
     "name": "stdout",
     "output_type": "stream",
     "text": [
      "Approach #1\n",
      "16\n",
      "36\n",
      "64\n",
      "144\n",
      "2025\n",
      "6084\n",
      "\n",
      " Approach #2\n"
     ]
    },
    {
     "data": {
      "text/plain": [
       "[16, 36, 64, 144, 2025, 6084]"
      ]
     },
     "execution_count": 1,
     "metadata": {},
     "output_type": "execute_result"
    }
   ],
   "source": [
    "# Question 1\n",
    "# find the square of given list\n",
    "num_list = [4, 6, 8, 12, 45, 78]\n",
    "\n",
    "# print the square of num_list\n",
    "print(\"Approach #1\")\n",
    "for x in num_list:\n",
    "    print(x ** 2)\n",
    "\n",
    "print(\"\\n Approach #2\")\n",
    "# Qustion 1 alternative\n",
    "num_list2 = [x ** 2 for x in num_list]\n",
    "num_list2"
   ]
  },
  {
   "cell_type": "code",
   "execution_count": 2,
   "metadata": {
    "ExecuteTime": {
     "end_time": "2019-06-28T22:02:38.659571Z",
     "start_time": "2019-06-28T22:02:38.650306Z"
    }
   },
   "outputs": [
    {
     "name": "stdout",
     "output_type": "stream",
     "text": [
      "Original list: [0, 1, 2, 3, 4, 5, 6, 7, 8, 9, 10, 11, 12, 13, 14, 15, 16, 17, 18, 19]\n",
      "Modified list: [0, 1, 4, 27, 16, 125, 36, 343, 64, 729, 100, 1331, 144, 2197, 196, 3375, 256, 4913, 324, 6859]\n"
     ]
    }
   ],
   "source": [
    "# Question 2\n",
    "# replace all the elements in even indexes with squares and odd indexes with cubes\n",
    "num_list = list(range(20))\n",
    "num_list\n",
    "\n",
    "print(\"Original list: {0}\".format(num_list))\n",
    "for ix, x in enumerate(num_list):\n",
    "    if ix % 2 == 0:\n",
    "        num_list[ix] = num_list[ix] ** 2\n",
    "    else:\n",
    "        num_list[ix] = num_list[ix] ** 3\n",
    "print(\"Modified list: {0}\".format(num_list))"
   ]
  },
  {
   "cell_type": "code",
   "execution_count": 3,
   "metadata": {
    "ExecuteTime": {
     "end_time": "2019-06-28T22:02:38.673614Z",
     "start_time": "2019-06-28T22:02:38.664164Z"
    }
   },
   "outputs": [
    {
     "name": "stdout",
     "output_type": "stream",
     "text": [
      "[0, 1, 2, 3, 4, 5, 6, 7, 8, 9, 10, 11, 12, 13, 14, 15, 16, 17, 18, 19]\n",
      "[19, 18, 17, 16, 15, 14, 13, 12, 11, 10, 9, 8, 7, 6, 5, 4, 3, 2, 1, 0]\n"
     ]
    }
   ],
   "source": [
    "# Question 3\n",
    "# Using negative indexing, reverse the given list\n",
    "num_list = list(range(20))\n",
    "print(num_list)\n",
    "print(num_list[::-1])"
   ]
  },
  {
   "cell_type": "code",
   "execution_count": 4,
   "metadata": {
    "ExecuteTime": {
     "end_time": "2019-06-28T22:02:38.686159Z",
     "start_time": "2019-06-28T22:02:38.679225Z"
    }
   },
   "outputs": [
    {
     "name": "stdout",
     "output_type": "stream",
     "text": [
      "[1, 2, 3, 4, 5]\n"
     ]
    }
   ],
   "source": [
    "# Quesiton 4\n",
    "# Given a tuple, convert it to a list and remove the last element using remove()\n",
    "num_tup = (1, 2, 3, 4, 5, 6)\n",
    "num_list = list(num_tup)\n",
    "num_list.remove(num_list[-1])\n",
    "print(num_list)"
   ]
  },
  {
   "cell_type": "code",
   "execution_count": 5,
   "metadata": {
    "ExecuteTime": {
     "end_time": "2019-06-28T22:02:38.701110Z",
     "start_time": "2019-06-28T22:02:38.688159Z"
    }
   },
   "outputs": [
    {
     "data": {
      "text/plain": [
       "[1, 3, 5, 2, 4]"
      ]
     },
     "execution_count": 5,
     "metadata": {},
     "output_type": "execute_result"
    }
   ],
   "source": [
    "# Question 5\n",
    "# Given a list, find two sublists: list with even indexed elements and other with odd indexed elements\n",
    "# return a new list which is formed after concatenating the even indexed list with odd indexed list\n",
    "# Ex: given [1,2,3,4,5], the output should be: [1,3,5,2,4]\n",
    "num_list = list(range(1, 6))\n",
    "evenIx = num_list[::2]\n",
    "oddIx = num_list[1::2]\n",
    "evenIx + oddIx"
   ]
  },
  {
   "cell_type": "code",
   "execution_count": 6,
   "metadata": {
    "ExecuteTime": {
     "end_time": "2019-06-28T22:02:38.722494Z",
     "start_time": "2019-06-28T22:02:38.703559Z"
    }
   },
   "outputs": [
    {
     "name": "stdout",
     "output_type": "stream",
     "text": [
      "When dividing 0 by 3, the remainder is: 0\n",
      "When dividing 1 by 3, the remainder is: 1\n",
      "When dividing 2 by 3, the remainder is: 2\n",
      "When dividing 3 by 3, the remainder is: 0\n",
      "When dividing 4 by 3, the remainder is: 1\n",
      "When dividing 5 by 3, the remainder is: 2\n",
      "When dividing 6 by 3, the remainder is: 0\n",
      "When dividing 7 by 3, the remainder is: 1\n",
      "When dividing 8 by 3, the remainder is: 2\n",
      "When dividing 9 by 3, the remainder is: 0\n"
     ]
    }
   ],
   "source": [
    "# Question 6\n",
    "# Using for-loop, print the remainder of all the elements in a given list when divided with 3\n",
    "num_list = list(range(10))\n",
    "for x in num_list:\n",
    "    print(\"When dividing {0} by 3, the remainder is: {1}\".format(x, x % 3))"
   ]
  },
  {
   "cell_type": "code",
   "execution_count": 7,
   "metadata": {
    "ExecuteTime": {
     "end_time": "2019-06-28T22:02:44.594226Z",
     "start_time": "2019-06-28T22:02:38.723975Z"
    }
   },
   "outputs": [
    {
     "name": "stdout",
     "output_type": "stream",
     "text": [
      "Enter desired username: tylerP\n",
      "Password: hey\n",
      "Registration complete!\n"
     ]
    }
   ],
   "source": [
    "# Question 7\n",
    "# You are designer for the new login system for you class project.\n",
    "# To save the usernames and passwords, you want to use a dictionary as the data structure\n",
    "# Username will be the key and the value will be the password.\n",
    "# For simplicity lets assume we store plaintext passwords\n",
    "\n",
    "# Write program which asks a new user for username and password\n",
    "# call a function called register_user which prints \"Registration complete!\" and\n",
    "# returns True after successfully inserting the username and password key-value pair\n",
    "\n",
    "# If the selected username already exists, the function should print \"Username already exists. Try again!\" and return False\n",
    "# Based on the return value the main program should decide to exit or ask for new username\n",
    "def register_user(login_dict, uname, passwd):\n",
    "    if uname not in login_dict:\n",
    "        login_dict[uname] = passwd\n",
    "        print(\"Registration complete!\")\n",
    "        return True\n",
    "    else:\n",
    "        print(\"Username already exists. Try again!\")\n",
    "        return False\n",
    "\n",
    "\n",
    "login_dict = {\"jdoe\": \"23!@56\"}\n",
    "\n",
    "# hint: use of break statement is required\n",
    "while True:\n",
    "    uname = input(\"Enter desired username: \")\n",
    "    passwd = input(\"Password: \")\n",
    "\n",
    "    if register_user(login_dict, uname, passwd):\n",
    "        break\n",
    "    else:\n",
    "        print(\"Please enter a different username:\")"
   ]
  },
  {
   "cell_type": "code",
   "execution_count": 8,
   "metadata": {
    "ExecuteTime": {
     "end_time": "2019-06-28T22:02:44.599308Z",
     "start_time": "2019-06-28T22:02:44.596027Z"
    }
   },
   "outputs": [
    {
     "data": {
      "text/plain": [
       "{'jdoe': '23!@56', 'tylerP': 'hey'}"
      ]
     },
     "execution_count": 8,
     "metadata": {},
     "output_type": "execute_result"
    }
   ],
   "source": [
    "login_dict"
   ]
  },
  {
   "cell_type": "code",
   "execution_count": 9,
   "metadata": {
    "ExecuteTime": {
     "end_time": "2019-06-28T22:02:44.632129Z",
     "start_time": "2019-06-28T22:02:44.602132Z"
    }
   },
   "outputs": [
    {
     "name": "stdout",
     "output_type": "stream",
     "text": [
      "10\n",
      "9\n",
      "8\n",
      "7\n",
      "6\n",
      "5\n",
      "4\n",
      "3\n",
      "2\n",
      "1\n",
      "0\n"
     ]
    }
   ],
   "source": [
    "# Question 8\n",
    "# create a generator function to return numbers from given number 'n'\n",
    "# in decreasing order\n",
    "# if n=20, generate numbers from 20 to 0\n",
    "def reverse_num_generator(n):\n",
    "    num = 0\n",
    "    while n >= num:\n",
    "        yield n - num\n",
    "        num += 1\n",
    "\n",
    "\n",
    "# print numbers from 10 to 0 (n=10)\n",
    "rev = reverse_num_generator(n=10)\n",
    "\n",
    "for num in rev:\n",
    "    print(num)"
   ]
  }
 ],
 "metadata": {
  "kernelspec": {
   "display_name": "Python 3",
   "language": "python",
   "name": "python3"
  },
  "language_info": {
   "codemirror_mode": {
    "name": "ipython",
    "version": 3
   },
   "file_extension": ".py",
   "mimetype": "text/x-python",
   "name": "python",
   "nbconvert_exporter": "python",
   "pygments_lexer": "ipython3",
   "version": "3.6.8"
  },
  "toc": {
   "base_numbering": 1,
   "nav_menu": {},
   "number_sections": true,
   "sideBar": true,
   "skip_h1_title": false,
   "title_cell": "Table of Contents",
   "title_sidebar": "Contents",
   "toc_cell": false,
   "toc_position": {},
   "toc_section_display": true,
   "toc_window_display": false
  }
 },
 "nbformat": 4,
 "nbformat_minor": 2
}
