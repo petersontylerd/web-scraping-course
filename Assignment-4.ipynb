{
 "cells": [
  {
   "cell_type": "markdown",
   "metadata": {},
   "source": [
    "### Assignment 04"
   ]
  },
  {
   "cell_type": "markdown",
   "metadata": {},
   "source": [
    "###### Note: To be done after completing Module 6\n",
    "\n",
    "In this exercise, we will work on some problems to get practical experience on the concepts learnt so far."
   ]
  },
  {
   "cell_type": "markdown",
   "metadata": {},
   "source": [
    "#### Problem Statement\n",
    "\n",
    "As a class project, we will write a client program which will extract tweets with the hash-tag '#happy'. This client will handle rate-limit errors and collect as many tweets as possible in a given time.\n",
    "\n",
    "The tweets collected would be stored as a CSV file `\"tweets.csv\"` with the following contents: `id`, `lang`, `user.screen_name`, `text`."
   ]
  },
  {
   "cell_type": "code",
   "execution_count": 3,
   "metadata": {
    "ExecuteTime": {
     "end_time": "2019-06-28T22:06:00.456055Z",
     "start_time": "2019-06-28T22:06:00.430239Z"
    }
   },
   "outputs": [
    {
     "ename": "ModuleNotFoundError",
     "evalue": "No module named 'config'",
     "output_type": "error",
     "traceback": [
      "\u001b[0;31m---------------------------------------------------------------------------\u001b[0m",
      "\u001b[0;31mModuleNotFoundError\u001b[0m                       Traceback (most recent call last)",
      "\u001b[0;32m<ipython-input-3-c6a2d636a12e>\u001b[0m in \u001b[0;36m<module>\u001b[0;34m\u001b[0m\n\u001b[1;32m      9\u001b[0m \u001b[0;32mif\u001b[0m \u001b[0mmodulePath\u001b[0m \u001b[0;32mnot\u001b[0m \u001b[0;32min\u001b[0m \u001b[0msys\u001b[0m\u001b[0;34m.\u001b[0m\u001b[0mpath\u001b[0m\u001b[0;34m:\u001b[0m\u001b[0;34m\u001b[0m\u001b[0;34m\u001b[0m\u001b[0m\n\u001b[1;32m     10\u001b[0m     \u001b[0msys\u001b[0m\u001b[0;34m.\u001b[0m\u001b[0mpath\u001b[0m\u001b[0;34m.\u001b[0m\u001b[0mappend\u001b[0m\u001b[0;34m(\u001b[0m\u001b[0mmodulePath\u001b[0m\u001b[0;34m)\u001b[0m\u001b[0;34m\u001b[0m\u001b[0;34m\u001b[0m\u001b[0m\n\u001b[0;32m---> 11\u001b[0;31m \u001b[0;32mimport\u001b[0m \u001b[0mconfig\u001b[0m \u001b[0;31m# this is a file on my local machine that stores the API keys and access tokens\u001b[0m\u001b[0;34m\u001b[0m\u001b[0;34m\u001b[0m\u001b[0m\n\u001b[0m\u001b[1;32m     12\u001b[0m \u001b[0;34m\u001b[0m\u001b[0m\n\u001b[1;32m     13\u001b[0m \u001b[0;31m# Helper functions\u001b[0m\u001b[0;34m\u001b[0m\u001b[0;34m\u001b[0m\u001b[0;34m\u001b[0m\u001b[0m\n",
      "\u001b[0;31mModuleNotFoundError\u001b[0m: No module named 'config'"
     ]
    }
   ],
   "source": [
    "# create functions for handling tweets\n",
    "import csv\n",
    "import tweepy\n",
    "import time\n",
    "import os\n",
    "import sys\n",
    "\n",
    "modulePath = os.path.abspath(os.path.join(\"../../..\"))\n",
    "if modulePath not in sys.path:\n",
    "    sys.path.append(modulePath)\n",
    "import config  # this is a file on my local machine that stores the API keys and access tokens\n",
    "\n",
    "# Helper functions\n",
    "# implement the ratelimiting function\n",
    "def limit_handler(cursor):\n",
    "    while True:\n",
    "        try:\n",
    "            yield cursor.next()\n",
    "        except tweepy.TweepError:\n",
    "            print(\"Sleeping for 15 minutes\")\n",
    "            time.sleep(15 * 60)\n",
    "\n",
    "\n",
    "# ------------------------------------------------------------------------\n",
    "# Main Program\n",
    "# ------------------------------------------------------------------------\n",
    "\n",
    "# paste you consumer keys and access tokens here\n",
    "consumer_key = config.apiKey\n",
    "consumer_secret = config.apiSec\n",
    "access_token = config.accessToken\n",
    "access_token_secret = config.accessSec\n",
    "\n",
    "# create api object after proper authentication\n",
    "auth = tweepy.OAuthHandler(consumer_key, consumer_secret)\n",
    "auth.set_access_token(access_token, access_token_secret)\n",
    "api = tweepy.API(auth)\n",
    "\n",
    "search_tag = \"#happy\"\n",
    "fname = \"tweets.csv\"\n",
    "\n",
    "# creating a search cursor\n",
    "search_cursor = tweepy.Cursor(api.search, search_tag).items(5000)\n",
    "\n",
    "with open(fname, \"w\") as f:\n",
    "    field_names = [\"ID\", \"Language\", \"Screen Name\", \"Text\"]\n",
    "    for tweet in limit_handler(search_cursor):\n",
    "        exportwriter = csv.writer(f)\n",
    "        exportwriter.writerow(\n",
    "            [tweet.id, tweet.lang, tweet.user.screen_name, tweet.text.encode(\"utf-8\")]\n",
    "        )\n",
    "print(\"Write to file successful!\")"
   ]
  },
  {
   "cell_type": "code",
   "execution_count": null,
   "metadata": {
    "ExecuteTime": {
     "end_time": "2019-06-28T22:05:43.978689Z",
     "start_time": "2019-06-28T22:05:43.705Z"
    }
   },
   "outputs": [],
   "source": [
    "# Load first 10 tweets to review results\n",
    "fname = \"tweets.csv\"\n",
    "with open(fname) as f:\n",
    "    counter = 0\n",
    "    filereader = csv.reader(f)\n",
    "    for row in filereader:\n",
    "        if counter == 10:\n",
    "            break\n",
    "        else:\n",
    "            print(\"****************\")\n",
    "            print(row)\n",
    "            counter += 1"
   ]
  }
 ],
 "metadata": {
  "kernelspec": {
   "display_name": "Python 3",
   "language": "python",
   "name": "python3"
  },
  "language_info": {
   "codemirror_mode": {
    "name": "ipython",
    "version": 3
   },
   "file_extension": ".py",
   "mimetype": "text/x-python",
   "name": "python",
   "nbconvert_exporter": "python",
   "pygments_lexer": "ipython3",
   "version": "3.6.8"
  },
  "toc": {
   "base_numbering": 1,
   "nav_menu": {},
   "number_sections": true,
   "sideBar": true,
   "skip_h1_title": false,
   "title_cell": "Table of Contents",
   "title_sidebar": "Contents",
   "toc_cell": false,
   "toc_position": {},
   "toc_section_display": true,
   "toc_window_display": false
  }
 },
 "nbformat": 4,
 "nbformat_minor": 2
}
